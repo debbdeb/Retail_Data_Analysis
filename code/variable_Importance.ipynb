{
 "cells": [
  {
   "cell_type": "code",
   "execution_count": null,
   "metadata": {},
   "outputs": [],
   "source": [
    "import os, sys, import_ipynb, ipynb\n",
    "if os.getcwd() == 'C:\\\\Users\\\\admin\\\\Desktop\\\\retail_data_analysis\\\\code':\n",
    "    print (\"Already in code directory\")\n",
    "else:\n",
    "    os.chdir('..//code')\n",
    "        \n",
    "# import python libraries\n",
    "from importLibraries import *\n",
    "\n",
    "\n",
    "def fun_variable_Importance():\n",
    "    \n",
    "    h2o.init()\n",
    "    \n",
    "    os.chdir(os.path.expanduser('../input'))\n",
    "    \n",
    "    # Import training set into H2O\n",
    "    rawdata_marketplace = h2o.import_file(\"input_data_preProcessed.csv\")\n",
    "    \n",
    "    # Retain specific columns\n",
    "    rawdata_marketplace = rawdata_marketplace[:, ['Quantity', 'UnitPrice', 'Country', 'new_Only_InvoiceDate', 'new_Only_InvoiceHour', 'nearestConcept', 'revenue']]\n",
    "    # Identify predictors and response\n",
    "    x = rawdata_marketplace.columns\n",
    "    y = \"revenue\"\n",
    "    x.remove(y)\n",
    "\n",
    "    # Run AutoML\n",
    "    aml = H2OAutoML(max_models=4, stopping_rounds=1)\n",
    "    aml.train(x=x, y=y, training_frame=rawdata_marketplace)\n",
    "\n",
    "    # View AutoML Leaderboard\n",
    "    lb = aml.leaderboard\n",
    "    display(lb)\n",
    "    \n",
    "    # Get a particular model\n",
    "    m = h2o.get_model(lb[2, 'model_id'])\n",
    "    \n",
    "    # Get the data in pandas df\n",
    "    m.varimp(True).to_csv('featureimportances.csv')\n",
    "    #m.varimp_plot()\n",
    "    "
   ]
  }
 ],
 "metadata": {
  "kernelspec": {
   "display_name": "Python 3",
   "language": "python",
   "name": "python3"
  },
  "language_info": {
   "codemirror_mode": {
    "name": "ipython",
    "version": 3
   },
   "file_extension": ".py",
   "mimetype": "text/x-python",
   "name": "python",
   "nbconvert_exporter": "python",
   "pygments_lexer": "ipython3",
   "version": "3.6.7"
  }
 },
 "nbformat": 4,
 "nbformat_minor": 2
}
